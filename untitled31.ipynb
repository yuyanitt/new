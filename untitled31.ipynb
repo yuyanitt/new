{
  "nbformat": 4,
  "nbformat_minor": 0,
  "metadata": {
    "colab": {
      "provenance": [],
      "authorship_tag": "ABX9TyP63e3uhjFQTSsDTONjWVsX",
      "include_colab_link": true
    },
    "kernelspec": {
      "name": "python3",
      "display_name": "Python 3"
    },
    "language_info": {
      "name": "python"
    }
  },
  "cells": [
    {
      "cell_type": "markdown",
      "metadata": {
        "id": "view-in-github",
        "colab_type": "text"
      },
      "source": [
        "<a href=\"https://colab.research.google.com/github/yuyanitt/new/blob/main/untitled31.ipynb\" target=\"_parent\"><img src=\"https://colab.research.google.com/assets/colab-badge.svg\" alt=\"Open In Colab\"/></a>"
      ]
    },
    {
      "cell_type": "code",
      "source": [
        "import numpy as np\n",
        "from numpy.random import default_rng\n",
        "\n",
        "from scipy.stats import norm, invgamma, multivariate_normal, wishart\n",
        "from scipy import stats\n",
        "\n",
        "import matplotlib.pyplot as plt\n",
        "import math\n"
      ],
      "metadata": {
        "id": "00CxqbxUOkQx"
      },
      "execution_count": null,
      "outputs": []
    },
    {
      "cell_type": "code",
      "source": [
        "n1=18 #データの長さ\n",
        "rep=1000 #シミュレーション回数\n",
        "n_total=20000 #MCMCのステップ数\n",
        "n_burnin=5000\n",
        "true_mu=0 #真の平均\n",
        "true_sigma2=1.0 #真の分散"
      ],
      "metadata": {
        "id": "3yuuXQCfdotJ"
      },
      "execution_count": null,
      "outputs": []
    },
    {
      "cell_type": "code",
      "source": [
        "def et_interval(samples, mass=0.95): #95%ベイズ信用区間\n",
        "    x = np.asarray(samples, dtype=float).ravel()\n",
        "    x = x[np.isfinite(x)]\n",
        "    q = (1.0 - mass) / 2.0\n",
        "    lo, hi = np.quantile(x, [q, 1.0 - q])\n",
        "    return float(lo), float(hi)"
      ],
      "metadata": {
        "id": "PBJco_cseUEK"
      },
      "execution_count": null,
      "outputs": []
    },
    {
      "cell_type": "code",
      "source": [
        "delta_mu=2.00 #muの提案分布の分散\n",
        "delta_sigma=2.00 #sigmaの提案分布の分散"
      ],
      "metadata": {
        "id": "TqV4K8TKez3y"
      },
      "execution_count": null,
      "outputs": []
    },
    {
      "cell_type": "code",
      "source": [
        "def normal_log_likelihood(x, mu, sigma): #対数尤度関数を定義\n",
        "\n",
        "    if not np.isfinite(sigma) or sigma <= 0:\n",
        "        return -np.inf\n",
        "\n",
        "    return np.sum(norm.logpdf(x, loc=mu, scale=sigma))"
      ],
      "metadata": {
        "id": "MXdvAkCWhNmf"
      },
      "execution_count": null,
      "outputs": []
    },
    {
      "cell_type": "code",
      "source": [
        "tau=1.50\n",
        "alpha=3.22\n",
        "beta=2.00\n",
        "cover_flags_sigma2 = []\n",
        "widths_sigma2 = []\n",
        "post_medians_sigma2 = []\n",
        "rng = np.random.default_rng(1)\n",
        "mass=0.95\n",
        "for i in range(1,rep+1):\n",
        "  data=rng.standard_normal(size=n1)\n",
        "  mu=[np.mean(data)]\n",
        "  sigma2=[np.var(data, ddof=1)]\n",
        "  for j in range(1,n_total+1):\n",
        "    mu_proposal=rng.uniform(mu[j-1] - delta_mu, mu[j-1] + delta_mu)\n",
        "    mu_r=normal_log_likelihood(data,mu_proposal,np.sqrt(sigma2[j-1]))-normal_log_likelihood(data,mu[j-1],np.sqrt(sigma2[j-1]))\n",
        "    if mu_r > 0:\n",
        "      mu.append(mu_proposal)\n",
        "    else:\n",
        "      u=rng.uniform(0,1)\n",
        "      if np.log(u)<mu_r:\n",
        "        mu.append(mu_proposal)\n",
        "      else:\n",
        "        mu.append(mu[j-1])\n",
        "    log_sigma2=np.log(sigma2[j-1])\n",
        "    log_sigma2_proposal=rng.normal(loc=log_sigma2, scale=tau)\n",
        "    sigma2_proposal=np.exp(log_sigma2_proposal)\n",
        "    sigma2_r=normal_log_likelihood(data,mu[j],np.sqrt(sigma2_proposal))+invgamma.logpdf(sigma2_proposal,a=alpha,scale=beta)-normal_log_likelihood(data,mu[j],np.sqrt(sigma2[j-1]))-invgamma.logpdf(sigma2[j-1],a=alpha,scale=beta)+np.log(sigma2_proposal)-np.log(sigma2[j-1])\n",
        "    if sigma2_r > 0:\n",
        "      sigma2.append(sigma2_proposal)\n",
        "    else:\n",
        "      u=rng.uniform(0,1)\n",
        "      if np.log(u)<sigma2_r:\n",
        "        sigma2.append(sigma2_proposal)\n",
        "      else:\n",
        "        sigma2.append(sigma2[j-1])\n",
        "\n",
        "\n",
        "  mass = 0.95\n",
        "  q = (1.0 - mass) / 2.0\n",
        "  chain_sigma2 = np.asarray(sigma2[1 + n_burnin:], dtype=float)\n",
        "  lo, hi = np.quantile(chain_sigma2, [q, 1.0 - q])\n",
        "  covered = (lo <= true_sigma2) and (true_sigma2 <= hi)\n",
        "  cover_flags_sigma2.append(covered)\n",
        "  widths_sigma2.append(hi - lo)\n",
        "  post_medians_sigma2.append(float(np.median(chain_sigma2)))\n",
        "coverage_sigma2 = float(np.mean(cover_flags_sigma2))\n",
        "median_width_sigma2 = float(np.median(widths_sigma2))\n",
        "median_of_medians_sigma2 = float(np.median(post_medians_sigma2))\n",
        "print(coverage_sigma2, median_width_sigma2, median_of_medians_sigma2)\n"
      ],
      "metadata": {
        "id": "9lJBUO8ojMjc"
      },
      "execution_count": null,
      "outputs": []
    }
  ]
}